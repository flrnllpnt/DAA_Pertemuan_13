{
  "nbformat": 4,
  "nbformat_minor": 0,
  "metadata": {
    "colab": {
      "name": "Pertemuan 13.ipynb",
      "provenance": [],
      "collapsed_sections": []
    },
    "kernelspec": {
      "name": "python3",
      "display_name": "Python 3"
    }
  },
  "cells": [
    {
      "cell_type": "markdown",
      "metadata": {
        "id": "juUk0NdLzzSO"
      },
      "source": [
        "**Studi Kasus Fraud Analytics**"
      ]
    },
    {
      "cell_type": "code",
      "metadata": {
        "id": "VoBrq2rLzRCE"
      },
      "source": [
        "import networkx as nx\r\n",
        "import matplotlib.pyplot as plt"
      ],
      "execution_count": null,
      "outputs": []
    },
    {
      "cell_type": "code",
      "metadata": {
        "id": "DJXYCUZJ0Z-6"
      },
      "source": [
        "vertices = range(1,10)\r\n",
        "edges = [(7,2),(2,3),(7,4),(4,5),(7,3),(7,5),(1,6),(1,7),(2,8),(2,9)]"
      ],
      "execution_count": null,
      "outputs": []
    },
    {
      "cell_type": "code",
      "metadata": {
        "id": "c83oRB9U04br"
      },
      "source": [
        "G = nx.Graph()"
      ],
      "execution_count": null,
      "outputs": []
    },
    {
      "cell_type": "code",
      "metadata": {
        "id": "quMIpIOV1Hfy"
      },
      "source": [
        "G.add_nodes_from(vertices)\r\n",
        "G.add_edges_from(edges)\r\n",
        "pos=nx.spring_layout(G)"
      ],
      "execution_count": null,
      "outputs": []
    },
    {
      "cell_type": "code",
      "metadata": {
        "colab": {
          "base_uri": "https://localhost:8080/",
          "height": 247
        },
        "id": "IASEglu766Hn",
        "outputId": "f61e1f99-29d1-4cf1-d5b3-495193c81013"
      },
      "source": [
        "nx.draw_networkx_nodes(G,pos,nodelist=[1,4,3,8,9],label=True,node_color='g',node_size=1300)\r\n",
        "\r\n",
        "nx.draw_networkx_nodes(G,pos,nodelist=[2,5,6,7],label=True,node_color='r',node_size=1300)\r\n",
        "\r\n",
        "nx.draw_networkx_edges(G,pos,edges,width=3,alpha=0.5,edge_color='b')\r\n",
        "labels={}\r\n",
        "labels[1]=r'1 NF'\r\n",
        "labels[2]=r'2 F'\r\n",
        "labels[3]=r'3 NF'\r\n",
        "labels[4]=r'4 NF'\r\n",
        "labels[5]=r'5 F'\r\n",
        "labels[6]=r'6 F'\r\n",
        "labels[7]=r'7 F'\r\n",
        "labels[8]=r'8 NF'\r\n",
        "labels[9]=r'9 NF'"
      ],
      "execution_count": null,
      "outputs": [
        {
          "output_type": "display_data",
          "data": {
            "image/png": "[encoded data removed]",
            "text/plain": [
              "<Figure size 432x288 with 1 Axes>"
            ]
          },
          "metadata": {
            "tags": []
          }
        }
      ]
    }
  ]
}